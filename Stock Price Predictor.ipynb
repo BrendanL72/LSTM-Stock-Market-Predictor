{
 "cells": [
  {
   "cell_type": "code",
   "execution_count": 1,
   "id": "45a6e145",
   "metadata": {},
   "outputs": [
    {
     "name": "stdout",
     "output_type": "stream",
     "text": [
      "Requirement already satisfied: keras in d:\\anaconda\\envs\\tf_radeon\\lib\\site-packages (2.9.0)\n"
     ]
    }
   ],
   "source": [
    "!pip install -U keras"
   ]
  },
  {
   "cell_type": "code",
   "execution_count": 2,
   "id": "43a22e16",
   "metadata": {},
   "outputs": [],
   "source": [
    "#imports\n",
    "#using DirectML as this was created on a Radeon RX 580\n",
    "import tensorflow.compat.v1 as tf\n",
    "import numpy as np\n",
    "import matplotlib.pyplot as plt\n",
    "import pandas as pd\n",
    "from sklearn.preprocessing import MinMaxScaler\n",
    "from sklearn.model_selection import TimeSeriesSplit"
   ]
  },
  {
   "cell_type": "code",
   "execution_count": 3,
   "id": "87f84e12",
   "metadata": {},
   "outputs": [],
   "source": [
    "#visualization methods"
   ]
  },
  {
   "cell_type": "code",
   "execution_count": 4,
   "id": "a1138124",
   "metadata": {
    "scrolled": true
   },
   "outputs": [
    {
     "name": "stdout",
     "output_type": "stream",
     "text": [
      "            Date        Open        High         Low       Close   Adj Close  \\\n",
      "0     2000-01-03    0.936384    1.004464    0.907924    0.999442    0.854541   \n",
      "1     2000-01-04    0.966518    0.987723    0.903460    0.915179    0.782494   \n",
      "2     2000-01-05    0.926339    0.987165    0.919643    0.928571    0.793945   \n",
      "3     2000-01-06    0.947545    0.955357    0.848214    0.848214    0.725238   \n",
      "4     2000-01-07    0.861607    0.901786    0.852679    0.888393    0.759592   \n",
      "...          ...         ...         ...         ...         ...         ...   \n",
      "5278  2020-12-23  132.160004  132.429993  130.779999  130.960007  129.801270   \n",
      "5279  2020-12-24  131.320007  133.460007  131.100006  131.970001  130.802338   \n",
      "5280  2020-12-28  133.990005  137.339996  133.509995  136.690002  135.480576   \n",
      "5281  2020-12-29  138.050003  138.789993  134.339996  134.869995  133.676666   \n",
      "5282  2020-12-30  135.580002  135.990005  133.399994  133.720001  132.536850   \n",
      "\n",
      "         Volume  \n",
      "0     535796800  \n",
      "1     512377600  \n",
      "2     778321600  \n",
      "3     767972800  \n",
      "4     460734400  \n",
      "...         ...  \n",
      "5278   88223700  \n",
      "5279   54930100  \n",
      "5280  124486200  \n",
      "5281  121047300  \n",
      "5282   96452100  \n",
      "\n",
      "[5283 rows x 7 columns]\n",
      "Date         5283\n",
      "Open         5283\n",
      "High         5283\n",
      "Low          5283\n",
      "Close        5283\n",
      "Adj Close    5283\n",
      "Volume       5283\n",
      "dtype: int64\n"
     ]
    },
    {
     "data": {
      "image/png": "[encoded data removed]",
      "text/plain": [
       "<Figure size 432x288 with 1 Axes>"
      ]
     },
     "metadata": {
      "needs_background": "light"
     },
     "output_type": "display_data"
    }
   ],
   "source": [
    "#read in the dataset\n",
    "#dataset is 20 years of Apple stock history from Jan 2000 - Dec 2020\n",
    "data = pd.read_csv(\"D:\\Downloads\\AAPL.csv\")\n",
    "data.head()\n",
    "print(data)\n",
    "#need to check for null values\n",
    "print(data.count())\n",
    "data['Adj Close'].plot()\n",
    "adj_close = pd.DataFrame(data['Adj Close'])\n",
    "targets = adj_close"
   ]
  },
  {
   "cell_type": "code",
   "execution_count": 5,
   "id": "afea11d7",
   "metadata": {},
   "outputs": [
    {
     "data": {
      "text/html": [
       "<div>\n",
       "<style scoped>\n",
       "    .dataframe tbody tr th:only-of-type {\n",
       "        vertical-align: middle;\n",
       "    }\n",
       "\n",
       "    .dataframe tbody tr th {\n",
       "        vertical-align: top;\n",
       "    }\n",
       "\n",
       "    .dataframe thead th {\n",
       "        text-align: right;\n",
       "    }\n",
       "</style>\n",
       "<table border=\"1\" class=\"dataframe\">\n",
       "  <thead>\n",
       "    <tr style=\"text-align: right;\">\n",
       "      <th></th>\n",
       "      <th>Open</th>\n",
       "      <th>High</th>\n",
       "      <th>Low</th>\n",
       "      <th>Volume</th>\n",
       "    </tr>\n",
       "  </thead>\n",
       "  <tbody>\n",
       "    <tr>\n",
       "      <th>0</th>\n",
       "      <td>0.005111</td>\n",
       "      <td>0.005550</td>\n",
       "      <td>0.005076</td>\n",
       "      <td>0.067250</td>\n",
       "    </tr>\n",
       "    <tr>\n",
       "      <th>1</th>\n",
       "      <td>0.005330</td>\n",
       "      <td>0.005429</td>\n",
       "      <td>0.005043</td>\n",
       "      <td>0.064077</td>\n",
       "    </tr>\n",
       "    <tr>\n",
       "      <th>2</th>\n",
       "      <td>0.005038</td>\n",
       "      <td>0.005425</td>\n",
       "      <td>0.005164</td>\n",
       "      <td>0.100102</td>\n",
       "    </tr>\n",
       "    <tr>\n",
       "      <th>3</th>\n",
       "      <td>0.005192</td>\n",
       "      <td>0.005195</td>\n",
       "      <td>0.004631</td>\n",
       "      <td>0.098700</td>\n",
       "    </tr>\n",
       "    <tr>\n",
       "      <th>4</th>\n",
       "      <td>0.004569</td>\n",
       "      <td>0.004809</td>\n",
       "      <td>0.004664</td>\n",
       "      <td>0.057082</td>\n",
       "    </tr>\n",
       "  </tbody>\n",
       "</table>\n",
       "</div>"
      ],
      "text/plain": [
       "       Open      High       Low    Volume\n",
       "0  0.005111  0.005550  0.005076  0.067250\n",
       "1  0.005330  0.005429  0.005043  0.064077\n",
       "2  0.005038  0.005425  0.005164  0.100102\n",
       "3  0.005192  0.005195  0.004631  0.098700\n",
       "4  0.004569  0.004809  0.004664  0.057082"
      ]
     },
     "execution_count": 5,
     "metadata": {},
     "output_type": "execute_result"
    }
   ],
   "source": [
    "#scale the data to be easier to process\n",
    "features = ['Open', 'High', 'Low', 'Volume']\n",
    "scaler = MinMaxScaler()\n",
    "scaled_data = pd.DataFrame(scaler.fit_transform(data[features]), columns=features, index=data.index)\n",
    "scaled_data.head()"
   ]
  },
  {
   "cell_type": "code",
   "execution_count": 6,
   "id": "f088c423",
   "metadata": {},
   "outputs": [
    {
     "name": "stdout",
     "output_type": "stream",
     "text": [
      "4\n",
      "          Open      High       Low    Volume\n",
      "0     0.005111  0.005550  0.005076  0.067250\n",
      "1     0.005330  0.005429  0.005043  0.064077\n",
      "2     0.005038  0.005425  0.005164  0.100102\n",
      "3     0.005192  0.005195  0.004631  0.098700\n",
      "4     0.004569  0.004809  0.004664  0.057082\n",
      "...        ...       ...       ...       ...\n",
      "4798  0.294450  0.298092  0.296991  0.027783\n",
      "4799  0.299638  0.303234  0.305063  0.016745\n",
      "4800  0.301180  0.303198  0.307617  0.012372\n",
      "4801  0.301996  0.308034  0.310133  0.011736\n",
      "4802  0.311883  0.314205  0.319584  0.014232\n",
      "\n",
      "[4803 rows x 4 columns]\n",
      "      Adj Close\n",
      "0      0.854541\n",
      "1      0.782494\n",
      "2      0.793945\n",
      "3      0.725238\n",
      "4      0.759592\n",
      "...         ...\n",
      "4798  39.995453\n",
      "4799  40.283459\n",
      "4800  40.302830\n",
      "4801  41.447628\n",
      "4802  42.156765\n",
      "\n",
      "[4803 rows x 1 columns]\n",
      "          Open      High       Low    Volume\n",
      "4803  0.315130  0.315089  0.320516  0.009972\n",
      "4804  0.311048  0.312148  0.315837  0.011870\n",
      "4805  0.304862  0.306230  0.312258  0.007578\n",
      "4806  0.308599  0.307222  0.313806  0.006046\n",
      "4807  0.306876  0.306843  0.314644  0.006745\n",
      "...        ...       ...       ...       ...\n",
      "5278  0.957262  0.954097  0.973455  0.006622\n",
      "5279  0.951168  0.961531  0.975841  0.002112\n",
      "5280  0.970541  0.989535  0.993811  0.011534\n",
      "5281  1.000000  1.000000  1.000000  0.011068\n",
      "5282  0.982078  0.979791  0.992991  0.007736\n",
      "\n",
      "[480 rows x 4 columns]\n",
      "       Adj Close\n",
      "4803   42.171299\n",
      "4804   41.372597\n",
      "4805   41.421211\n",
      "4806   41.183010\n",
      "4807   41.537884\n",
      "...          ...\n",
      "5278  129.801270\n",
      "5279  130.802338\n",
      "5280  135.480576\n",
      "5281  133.676666\n",
      "5282  132.536850\n",
      "\n",
      "[480 rows x 1 columns]\n"
     ]
    }
   ],
   "source": [
    "#create testing, validation, and training datasets\n",
    "#utilize Time Series Split to create inputs and output sets\n",
    "num_splits = 10\n",
    "gap = 0\n",
    "time_series_split = TimeSeriesSplit(n_splits=num_splits, gap=gap)\n",
    "print(len(features))\n",
    "data_splitter = time_series_split.split(scaled_data)\n",
    "for train, test in data_splitter:\n",
    "    train_data, test_data = scaled_data[:len(train)], scaled_data[len(train):len(train) + len(test)]\n",
    "    train_targets, test_targets = targets[:len(train)], targets[len(train):len(train) + len(test)]\n",
    "print(train_data)\n",
    "print(train_targets)\n",
    "print(test_data)\n",
    "print(test_targets)"
   ]
  },
  {
   "cell_type": "code",
   "execution_count": 7,
   "id": "0ad5db05",
   "metadata": {},
   "outputs": [
    {
     "name": "stdout",
     "output_type": "stream",
     "text": [
      "(4803, 4)\n",
      "(4803, 1, 4)\n",
      "(480, 1, 4)\n"
     ]
    }
   ],
   "source": [
    "#process the data for consumption\n",
    "train_x = np.array(train_data)\n",
    "train_y = np.array(train_targets)\n",
    "test_x = np.array(test_data)\n",
    "test_y = np.array(test_targets)\n",
    "#need a 3d shape\n",
    "print(train_x.shape)\n",
    "train_input = train_x.reshape(train_x.shape[0], 1, train_x.shape[1])\n",
    "print(train_input.shape)\n",
    "test_input = test_x.reshape(test_x.shape[0], 1, test_x.shape[1])\n",
    "print(test_input.shape)\n"
   ]
  },
  {
   "cell_type": "code",
   "execution_count": 8,
   "id": "50fcf837",
   "metadata": {},
   "outputs": [
    {
     "name": "stdout",
     "output_type": "stream",
     "text": [
      "WARNING:tensorflow:From D:\\Anaconda\\envs\\tf_radeon\\lib\\site-packages\\tensorflow_core\\python\\ops\\resource_variable_ops.py:1630: calling BaseResourceVariable.__init__ (from tensorflow.python.ops.resource_variable_ops) with constraint is deprecated and will be removed in a future version.\n",
      "Instructions for updating:\n",
      "If using Keras pass *_constraint arguments to layers.\n",
      "Model: \"sequential\"\n",
      "_________________________________________________________________\n",
      "Layer (type)                 Output Shape              Param #   \n",
      "=================================================================\n",
      "lstm (LSTM)                  (None, 64)                17664     \n",
      "_________________________________________________________________\n",
      "dense (Dense)                (None, 1)                 65        \n",
      "=================================================================\n",
      "Total params: 17,729\n",
      "Trainable params: 17,729\n",
      "Non-trainable params: 0\n",
      "_________________________________________________________________\n"
     ]
    }
   ],
   "source": [
    "#create the LSTM model\n",
    "lstm = tf.keras.Sequential()\n",
    "lstm.add(tf.keras.layers.LSTM(64, input_shape=(1,train_data.shape[1]), activation = 'relu', return_sequences=False))\n",
    "#regression requires only one output\n",
    "lstm.add(tf.keras.layers.Dense(1))\n",
    "lstm.compile(loss='mean_squared_error', optimizer='adam')\n",
    "lstm.summary()"
   ]
  },
  {
   "cell_type": "code",
   "execution_count": 17,
   "id": "1fcec416",
   "metadata": {},
   "outputs": [
    {
     "name": "stdout",
     "output_type": "stream",
     "text": [
      "Train on 3842 samples, validate on 961 samples\n",
      "Epoch 1/50\n",
      "3842/3842 [==============================] - 9s 2ms/sample - loss: 0.0127 - val_loss: 1.1123\n",
      "Epoch 2/50\n",
      "3842/3842 [==============================] - 10s 3ms/sample - loss: 0.0124 - val_loss: 1.1038\n",
      "Epoch 3/50\n",
      "3842/3842 [==============================] - 10s 3ms/sample - loss: 0.0114 - val_loss: 1.1017\n",
      "Epoch 4/50\n",
      "3842/3842 [==============================] - 10s 3ms/sample - loss: 0.0112 - val_loss: 1.1031\n",
      "Epoch 5/50\n",
      "3842/3842 [==============================] - 9s 2ms/sample - loss: 0.0112 - val_loss: 1.1060\n",
      "Epoch 6/50\n",
      "3842/3842 [==============================] - 10s 3ms/sample - loss: 0.0111 - val_loss: 1.1094\n",
      "Epoch 7/50\n",
      "3842/3842 [==============================] - 10s 3ms/sample - loss: 0.0111 - val_loss: 1.1130TA: 0s - loss: 0.0\n",
      "Epoch 8/50\n",
      "3842/3842 [==============================] - 10s 3ms/sample - loss: 0.0111 - val_loss: 1.1166\n",
      "Epoch 9/50\n",
      "3842/3842 [==============================] - 10s 3ms/sample - loss: 0.0111 - val_loss: 1.1202\n",
      "Epoch 10/50\n",
      "3842/3842 [==============================] - 9s 2ms/sample - loss: 0.0111 - val_loss: 1.1238\n",
      "Epoch 11/50\n",
      "3842/3842 [==============================] - 10s 2ms/sample - loss: 0.0111 - val_loss: 1.1272\n",
      "Epoch 12/50\n",
      "3842/3842 [==============================] - 9s 2ms/sample - loss: 0.0111 - val_loss: 1.1305\n",
      "Epoch 13/50\n",
      "3842/3842 [==============================] - 10s 2ms/sample - loss: 0.0111 - val_loss: 1.1338\n",
      "Epoch 14/50\n",
      "3842/3842 [==============================] - 10s 3ms/sample - loss: 0.0111 - val_loss: 1.1368\n",
      "Epoch 15/50\n",
      "3842/3842 [==============================] - 9s 2ms/sample - loss: 0.0112 - val_loss: 1.1399\n",
      "Epoch 16/50\n",
      "3842/3842 [==============================] - 9s 2ms/sample - loss: 0.0112 - val_loss: 1.1429\n",
      "Epoch 17/50\n",
      "3842/3842 [==============================] - 9s 2ms/sample - loss: 0.0112 - val_loss: 1.1460\n",
      "Epoch 18/50\n",
      "3842/3842 [==============================] - 9s 2ms/sample - loss: 0.0112 - val_loss: 1.1491\n",
      "Epoch 19/50\n",
      "3842/3842 [==============================] - 10s 3ms/sample - loss: 0.0113 - val_loss: 1.1523\n",
      "Epoch 20/50\n",
      "3842/3842 [==============================] - 9s 2ms/sample - loss: 0.0113 - val_loss: 1.1554\n",
      "Epoch 21/50\n",
      "3842/3842 [==============================] - 9s 2ms/sample - loss: 0.0113 - val_loss: 1.1584\n",
      "Epoch 22/50\n",
      "3842/3842 [==============================] - 9s 2ms/sample - loss: 0.0113 - val_loss: 1.1615\n",
      "Epoch 23/50\n",
      "3842/3842 [==============================] - 9s 2ms/sample - loss: 0.0113 - val_loss: 1.1647\n",
      "Epoch 24/50\n",
      "3842/3842 [==============================] - 9s 2ms/sample - loss: 0.0114 - val_loss: 1.1680\n",
      "Epoch 25/50\n",
      "3842/3842 [==============================] - 9s 2ms/sample - loss: 0.0114 - val_loss: 1.1714\n",
      "Epoch 26/50\n",
      "3842/3842 [==============================] - 9s 2ms/sample - loss: 0.0114 - val_loss: 1.1750\n",
      "Epoch 27/50\n",
      "3842/3842 [==============================] - 9s 2ms/sample - loss: 0.0114 - val_loss: 1.1786\n",
      "Epoch 28/50\n",
      "3842/3842 [==============================] - 9s 2ms/sample - loss: 0.0114 - val_loss: 1.1822\n",
      "Epoch 29/50\n",
      "3842/3842 [==============================] - 9s 2ms/sample - loss: 0.0114 - val_loss: 1.1857\n",
      "Epoch 30/50\n",
      "3842/3842 [==============================] - 9s 2ms/sample - loss: 0.0114 - val_loss: 1.1891\n",
      "Epoch 31/50\n",
      "3842/3842 [==============================] - 9s 2ms/sample - loss: 0.0115 - val_loss: 1.1925\n",
      "Epoch 32/50\n",
      "3842/3842 [==============================] - 9s 2ms/sample - loss: 0.0115 - val_loss: 1.1957\n",
      "Epoch 33/50\n",
      "3842/3842 [==============================] - 10s 2ms/sample - loss: 0.0115 - val_loss: 1.1990\n",
      "Epoch 34/50\n",
      "3842/3842 [==============================] - 10s 3ms/sample - loss: 0.0115 - val_loss: 1.2023\n",
      "Epoch 35/50\n",
      "3842/3842 [==============================] - 10s 2ms/sample - loss: 0.0115 - val_loss: 1.2056\n",
      "Epoch 36/50\n",
      "3842/3842 [==============================] - 9s 2ms/sample - loss: 0.0116 - val_loss: 1.2089\n",
      "Epoch 37/50\n",
      "3842/3842 [==============================] - 9s 2ms/sample - loss: 0.0116 - val_loss: 1.2121\n",
      "Epoch 38/50\n",
      "3842/3842 [==============================] - 9s 2ms/sample - loss: 0.0116 - val_loss: 1.2155\n",
      "Epoch 39/50\n",
      "3842/3842 [==============================] - 9s 2ms/sample - loss: 0.0116 - val_loss: 1.2191\n",
      "Epoch 40/50\n",
      "3842/3842 [==============================] - 9s 2ms/sample - loss: 0.0117 - val_loss: 1.2227\n",
      "Epoch 41/50\n",
      "3842/3842 [==============================] - 9s 2ms/sample - loss: 0.0117 - val_loss: 1.2262\n",
      "Epoch 42/50\n",
      "3842/3842 [==============================] - 9s 2ms/sample - loss: 0.0117 - val_loss: 1.2298\n",
      "Epoch 43/50\n",
      "3842/3842 [==============================] - 9s 2ms/sample - loss: 0.0118 - val_loss: 1.2334\n",
      "Epoch 44/50\n",
      "3842/3842 [==============================] - 9s 2ms/sample - loss: 0.0118 - val_loss: 1.2371\n",
      "Epoch 45/50\n",
      "3842/3842 [==============================] - 9s 2ms/sample - loss: 0.0118 - val_loss: 1.2407\n",
      "Epoch 46/50\n",
      "3842/3842 [==============================] - 9s 2ms/sample - loss: 0.0119 - val_loss: 1.2444\n",
      "Epoch 47/50\n",
      "3842/3842 [==============================] - 9s 2ms/sample - loss: 0.0119 - val_loss: 1.2482\n",
      "Epoch 48/50\n",
      "3842/3842 [==============================] - 8s 2ms/sample - loss: 0.0119 - val_loss: 1.2519\n",
      "Epoch 49/50\n",
      "3842/3842 [==============================] - 8s 2ms/sample - loss: 0.0120 - val_loss: 1.2557 0. \n",
      "Epoch 50/50\n",
      "3842/3842 [==============================] - 9s 2ms/sample - loss: 0.0120 - val_loss: 1.2596\n"
     ]
    }
   ],
   "source": [
    "#training the model and get the training data\n",
    "history = lstm.fit(train_input, train_y, epochs=50, batch_size=8, verbose=1, shuffle=False, validation_split=0.2)"
   ]
  },
  {
   "cell_type": "code",
   "execution_count": 18,
   "id": "c4c6d605",
   "metadata": {},
   "outputs": [
    {
     "data": {
      "text/plain": [
       "<matplotlib.legend.Legend at 0x16816ffb7f0>"
      ]
     },
     "execution_count": 18,
     "metadata": {},
     "output_type": "execute_result"
    },
    {
     "data": {
      "image/png": "[encoded data removed]",
      "text/plain": [
       "<Figure size 432x288 with 1 Axes>"
      ]
     },
     "metadata": {
      "needs_background": "light"
     },
     "output_type": "display_data"
    }
   ],
   "source": [
    "#visualize training data\n",
    "plt.plot(history.history['loss'], label = \"Training Loss\")\n",
    "plt.plot(history.history['val_loss'], label = \"validation Loss\")\n",
    "plt.xlabel(\"Epochs\")\n",
    "plt.ylabel(\"Loss\")\n",
    "plt.grid(True)\n",
    "plt.legend()"
   ]
  },
  {
   "cell_type": "code",
   "execution_count": 19,
   "id": "1b4a3a6c",
   "metadata": {},
   "outputs": [],
   "source": [
    "#predict outputs \n",
    "preds = lstm.predict(test_input)"
   ]
  },
  {
   "cell_type": "code",
   "execution_count": 20,
   "id": "8c4128c1",
   "metadata": {},
   "outputs": [
    {
     "data": {
      "image/png": "[encoded data removed]",
      "text/plain": [
       "<Figure size 432x288 with 1 Axes>"
      ]
     },
     "metadata": {
      "needs_background": "light"
     },
     "output_type": "display_data"
    }
   ],
   "source": [
    "plt.plot(test_y, label= \"Actual Stock Price\")\n",
    "plt.plot(preds, label= \"LSTM Prediction\")\n",
    "plt.title(\"Apple Stock Price Predictions vs Actual Price\")\n",
    "plt.xlabel(\"Time Scale\")\n",
    "plt.ylabel(\"USD\")\n",
    "plt.legend()\n",
    "plt.show()"
   ]
  },
  {
   "cell_type": "code",
   "execution_count": 21,
   "id": "bb0f91be",
   "metadata": {},
   "outputs": [
    {
     "name": "stdout",
     "output_type": "stream",
     "text": [
      "Root Mean Square Error: 4.144303\n",
      "Mean Absolute Percentage Error: 4.657618%\n",
      "Mean Bias Error: -3.171296\n"
     ]
    }
   ],
   "source": [
    "#Prediction Statistics\n",
    "#Root Mean Square Error (RSME): standard deviation of prediction errors\n",
    "def RSME(actual, pred):\n",
    "    inner_sum = np.square(actual - pred)\n",
    "    summation = np.mean(inner_sum)\n",
    "    return np.sqrt(summation)\n",
    "\n",
    "#Mean Absolute Percentage Error (MAPE): measure of prediction accuracy, percentage based\n",
    "def MAPE(actual, pred):\n",
    "    inner_sum = np.abs((actual - pred)/actual)\n",
    "    return np.mean(inner_sum)*100\n",
    "    \n",
    "#Mean Bias Error (MBE): Average bias in the prediction\n",
    "def MBE(actual, pred):\n",
    "    errors = actual - preds\n",
    "    return errors.mean()\n",
    "\n",
    "print(f'Root Mean Square Error: {RSME(test_y, preds):2f}')\n",
    "print(f'Mean Absolute Percentage Error: {MAPE(test_y, preds):2f}%')\n",
    "print(f'Mean Bias Error: {MBE(test_y, preds):2f}')\n",
    "\n",
    "if (MAPE(test_y, preds) < 5):\n",
    "    lstm.save(\"LSTM predictor\")"
   ]
  },
  {
   "cell_type": "code",
   "execution_count": 26,
   "id": "324b8364",
   "metadata": {},
   "outputs": [
    {
     "name": "stdout",
     "output_type": "stream",
     "text": [
      "(253,)\n",
      "(253, 4)\n"
     ]
    }
   ],
   "source": [
    "#predict other stock prices\n",
    "#AMD stock price from May 18, 2021 to May 18, 2022\n",
    "new_data = pd.read_csv(\"D:\\Downloads\\AMD.csv\")\n",
    "new_data.head()\n",
    "new_data_y = np.array(new_data['Adj Close'])\n",
    "print(new_data_y.shape)\n",
    "new_scaled_data = pd.DataFrame(scaler.fit_transform(new_data[features]), columns=features, index=new_data.index)\n",
    "\n",
    "new_reshaped_data = np.array(new_scaled_data).reshape(new_scaled_data.shape[0], 1, new_scaled_data.shape[1])\n",
    "print(new_scaled_data.shape)"
   ]
  },
  {
   "cell_type": "code",
   "execution_count": 28,
   "id": "3f64dda4",
   "metadata": {},
   "outputs": [
    {
     "data": {
      "image/png": "[encoded data removed]",
      "text/plain": [
       "<Figure size 432x288 with 1 Axes>"
      ]
     },
     "metadata": {
      "needs_background": "light"
     },
     "output_type": "display_data"
    }
   ],
   "source": [
    "new_preds = lstm.predict(new_reshaped_data)\n",
    "plt.plot(new_data_y, label= \"Actual Stock Price\")\n",
    "plt.plot(new_preds, label= \"LSTM Prediction\")\n",
    "plt.title(\"AMD Stock Price Predictions vs Actual Price\")\n",
    "plt.xlabel(\"Time Scale\")\n",
    "plt.ylabel(\"USD\")\n",
    "plt.legend()\n",
    "plt.show()"
   ]
  },
  {
   "cell_type": "code",
   "execution_count": 30,
   "id": "875f2d29",
   "metadata": {},
   "outputs": [
    {
     "name": "stdout",
     "output_type": "stream",
     "text": [
      "(253,)\n",
      "Root Mean Square Error: 66.464562\n",
      "Mean Absolute Percentage Error: 50.141264%\n",
      "Mean Bias Error: 33.728607\n"
     ]
    }
   ],
   "source": [
    "#doesn't seem to work all that well\n",
    "print(new_data_y.shape)\n",
    "print(f'Root Mean Square Error: {RSME(new_data_y, new_preds):2f}')\n",
    "print(f'Mean Absolute Percentage Error: {MAPE(new_data_y, new_preds):2f}%')\n",
    "print(f'Mean Bias Error: {MBE(new_data_y, new_preds):2f}')"
   ]
  },
  {
   "cell_type": "code",
   "execution_count": null,
   "id": "9f67a8d0",
   "metadata": {},
   "outputs": [],
   "source": []
  },
  {
   "cell_type": "code",
   "execution_count": null,
   "id": "237d3bae",
   "metadata": {},
   "outputs": [],
   "source": []
  }
 ],
 "metadata": {
  "kernelspec": {
   "display_name": "Python 3",
   "language": "python",
   "name": "python3"
  },
  "language_info": {
   "codemirror_mode": {
    "name": "ipython",
    "version": 3
   },
   "file_extension": ".py",
   "mimetype": "text/x-python",
   "name": "python",
   "nbconvert_exporter": "python",
   "pygments_lexer": "ipython3",
   "version": "3.6.13"
  }
 },
 "nbformat": 4,
 "nbformat_minor": 5
}
